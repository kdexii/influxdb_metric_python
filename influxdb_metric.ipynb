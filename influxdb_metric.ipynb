{
 "cells": [
  {
   "cell_type": "code",
   "execution_count": 34,
   "metadata": {},
   "outputs": [],
   "source": [
    "import pandas as pd\n",
    "from influxdb import InfluxDBClient\n",
    "from influxdb import DataFrameClient\n",
    "import influxdb\n",
    "import numpy"
   ]
  },
  {
   "cell_type": "code",
   "execution_count": 35,
   "metadata": {},
   "outputs": [],
   "source": [
    "dbName = 'jmeter'\n",
    "config = {\n",
    "        'host':     '127.0.0.1',\n",
    "        'port':     8086,\n",
    "        'database': 'jmeter'\n",
    "    }\n",
    "client_db = InfluxDBClient(**config)\n",
    "dataframeclient = DataFrameClient(host='127.0.0.1', port='8086', database=dbName)"
   ]
  },
  {
   "cell_type": "code",
   "execution_count": 36,
   "metadata": {},
   "outputs": [
    {
     "name": "stdout",
     "output_type": "stream",
     "text": [
      "<influxdb._dataframe_client.DataFrameClient object at 0x7fb779592b80>\n"
     ]
    }
   ],
   "source": [
    "def createQuery():\n",
    "    client_db = InfluxDBClient(host='127.0.0.1', port=8086)\n",
    "    client_db.create_database(dbName)\n",
    "def show_db():\n",
    "    res = client_db.query('SHOW DATABASES')\n",
    "    print(res)\n",
    "print(dataframeclient)"
   ]
  },
  {
   "cell_type": "code",
   "execution_count": 58,
   "metadata": {},
   "outputs": [
    {
     "name": "stdout",
     "output_type": "stream",
     "text": [
      "ResultSet({'('databases', None)': [{'name': '_internal'}, {'name': 'mydatabase'}, {'name': 'clowndb'}, {'name': 'jmeter'}, {'name': 'mydb'}, {'name': 'jekalox'}]})\n",
      "defaultdict(<class 'list'>, {'jmeter':                                         avg\n",
      "2021-03-27 08:24:49.744000+00:00  48.226667\n",
      "2021-03-27 08:32:08.773000+00:00  68.714286\n",
      "2021-03-27 08:32:09.866000+00:00  71.144578\n",
      "2021-03-27 08:35:41.317000+00:00  43.790698\n",
      "2021-03-27 08:37:39.213000+00:00  48.877551\n",
      "2021-03-27 08:38:36.105000+00:00  38.604651\n",
      "2021-03-27 08:38:59.446000+00:00  36.953488\n",
      "2021-03-27 08:39:13.698000+00:00  39.883721\n",
      "2021-03-27 08:52:50.005000+00:00  61.179104\n",
      "2021-03-27 08:52:51.345000+00:00  63.542169\n",
      "2021-03-27 08:59:11.165000+00:00  49.065789\n",
      "2021-03-27 08:59:17.142000+00:00  37.795455\n",
      "2021-03-27 08:59:56.580000+00:00  48.738095\n",
      "2021-03-27 09:07:02.106000+00:00  50.452381})\n"
     ]
    }
   ],
   "source": [
    "createQuery()\n",
    "show_db()\n",
    "test = dataframeclient.query(f'''select avg from \"jmeter\"''')\n",
    "test['jmeter']\n",
    "\n",
    "# # test.sort()\n",
    "# print(test)\n",
    "# percentile = numpy.percentile(test,95)\n",
    "# client = influxdb.InfluxDBClient('localhost', 8086, 'root', 'root', 'jmeter')\n",
    "# q = \"select *(avg) from field tag\"\n",
    "# df = pd.DataFrame(client.query(q, chunked=True, chunk_size=10000).get_points())"
   ]
  },
  {
   "cell_type": "code",
   "execution_count": null,
   "metadata": {},
   "outputs": [],
   "source": []
  }
 ],
 "metadata": {
  "kernelspec": {
   "display_name": "Python 3",
   "language": "python",
   "name": "python3"
  },
  "language_info": {
   "codemirror_mode": {
    "name": "ipython",
    "version": 3
   },
   "file_extension": ".py",
   "mimetype": "text/x-python",
   "name": "python",
   "nbconvert_exporter": "python",
   "pygments_lexer": "ipython3",
   "version": "3.9.2"
  }
 },
 "nbformat": 4,
 "nbformat_minor": 4
}
