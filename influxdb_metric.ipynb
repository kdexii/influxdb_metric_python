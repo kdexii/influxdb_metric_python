{
 "cells": [
  {
   "cell_type": "code",
   "execution_count": 234,
   "metadata": {},
   "outputs": [],
   "source": [
    "# import pandas, influxdbclient, numpy\n",
    "import pandas as pd\n",
    "from influxdb import InfluxDBClient\n",
    "from influxdb import DataFrameClient\n",
    "import influxdb\n",
    "import numpy as np\n",
    "import time"
   ]
  },
  {
   "cell_type": "code",
   "execution_count": 235,
   "metadata": {
    "tags": []
   },
   "outputs": [],
   "source": [
    "# varriable and config\n",
    "dbName = 'jmeter'\n",
    "config = {\n",
    "        'host':     '127.0.0.1',\n",
    "        'port':     8086,\n",
    "        'database': 'jmeter'\n",
    "    }\n",
    "client_db = InfluxDBClient(**config)\n",
    "dataframeclient = DataFrameClient(host='127.0.0.1', port='8086', database=dbName)"
   ]
  },
  {
   "cell_type": "code",
   "execution_count": 236,
   "metadata": {},
   "outputs": [],
   "source": [
    "def createQuery():\n",
    "    client_db = InfluxDBClient(host='127.0.0.1', port=8086)\n",
    "    client_db.create_database(dbName)\n",
    "def showDb():\n",
    "    res = client_db.query('SHOW DATABASES')\n",
    "    print(\"list databases in ur influx: \\n\", res,\"\\n\")"
   ]
  },
  {
   "cell_type": "code",
   "execution_count": 237,
   "metadata": {},
   "outputs": [
    {
     "name": "stdout",
     "output_type": "stream",
     "text": [
      "list databases in ur influx: \n",
      " ResultSet({'('databases', None)': [{'name': '_internal'}, {'name': 'mydatabase'}, {'name': 'clowndb'}, {'name': 'jmeter'}, {'name': 'mydb'}, {'name': 'jekalox'}]}) \n",
      "\n"
     ]
    },
    {
     "data": {
      "text/html": [
       "<div>\n",
       "<style scoped>\n",
       "    .dataframe tbody tr th:only-of-type {\n",
       "        vertical-align: middle;\n",
       "    }\n",
       "\n",
       "    .dataframe tbody tr th {\n",
       "        vertical-align: top;\n",
       "    }\n",
       "\n",
       "    .dataframe thead th {\n",
       "        text-align: right;\n",
       "    }\n",
       "</style>\n",
       "<table border=\"1\" class=\"dataframe\">\n",
       "  <thead>\n",
       "    <tr style=\"text-align: right;\">\n",
       "      <th></th>\n",
       "      <th>max</th>\n",
       "    </tr>\n",
       "  </thead>\n",
       "  <tbody>\n",
       "    <tr>\n",
       "      <th>2021-03-27 08:52:51.345000+00:00</th>\n",
       "      <td>123.0</td>\n",
       "    </tr>\n",
       "  </tbody>\n",
       "</table>\n",
       "</div>"
      ],
      "text/plain": [
       "                                    max\n",
       "2021-03-27 08:52:51.345000+00:00  123.0"
      ]
     },
     "execution_count": 237,
     "metadata": {},
     "output_type": "execute_result"
    }
   ],
   "source": [
    "# call function\n",
    "createQuery()\n",
    "showDb()\n",
    "dataPercentile = dataframeclient.query(f'''select max(\"pct90.0\") from \"jmeter\"''')\n",
    "dataPercentile[\"jmeter\"]\n",
    "# test2 = DataFrameClient(test)\n",
    "# test[test2]\n",
    "# arr = [test.split for a in arr]\n",
    "# data = pd.DataFrame(arr,columns=['avg'])\n",
    "# test['jmeter']\n",
    "# print(test)\n",
    "# df = pd.DataFrame(test,index=[1], columns=['avg'])\n",
    "# print(\"test\", df)\n",
    "# test.sum(axis = 0, skipna = True)\n",
    "# test = np.array\n",
    "# p = np.percentile(test, 95)\n",
    "# print(p)\n",
    "# print(sum_row)\n",
    "# test.sort()\n",
    "# percentile = numpy.percentile(test,95)\n",
    "# client = influxdb.InfluxDBClient('localhost', 8086, 'root', 'root', 'jmeter')\n",
    "# q = \"select *(avg) from field tag\"\n",
    "# df = pd.DataFrame(client.query(q, chunked=True, chunk_size=10000).get_points())"
   ]
  },
  {
   "cell_type": "code",
   "execution_count": 238,
   "metadata": {},
   "outputs": [
    {
     "name": "stdout",
     "output_type": "stream",
     "text": [
      "Create by nonke...\n"
     ]
    }
   ],
   "source": [
    "print(\"Create by nonke...\")"
   ]
  },
  {
   "cell_type": "code",
   "execution_count": null,
   "metadata": {},
   "outputs": [],
   "source": []
  }
 ],
 "metadata": {
  "kernelspec": {
   "display_name": "Python 3",
   "language": "python",
   "name": "python3"
  },
  "language_info": {
   "codemirror_mode": {
    "name": "ipython",
    "version": 3
   },
   "file_extension": ".py",
   "mimetype": "text/x-python",
   "name": "python",
   "nbconvert_exporter": "python",
   "pygments_lexer": "ipython3",
   "version": "3.9.2"
  }
 },
 "nbformat": 4,
 "nbformat_minor": 4
}
